{
 "cells": [
  {
   "cell_type": "code",
   "execution_count": 8,
   "metadata": {},
   "outputs": [],
   "source": [
    "from IPython.display import HTML\n",
    "import numpy as np\n",
    "import pandas as pd\n",
    "import matplotlib.pyplot as plt\n",
    "from sklearn import preprocessing\n",
    "import sklearn.metrics\n",
    "import sklearn.metrics.pairwise\n",
    "\n",
    "def recurrence_plot(s, eps=None, steps=None):\n",
    "    if eps==None: eps=0.1\n",
    "    if steps==None: steps=10\n",
    "    d = sklearn.metrics.pairwise.pairwise_distances(s)\n",
    "    d = np.floor(d / eps)\n",
    "    d[d > steps] = steps\n",
    "    return d"
   ]
  },
  {
   "cell_type": "code",
   "execution_count": null,
   "metadata": {},
   "outputs": [],
   "source": [
    "df_fless_2_alt = pd.read_csv('Data/flawless_2_20201214_altitude.csv')[['field.range']]\n",
    "print(df_fless_2_alt)\n",
    "plt.plot(df_fless_2_alt)"
   ]
  },
  {
   "cell_type": "code",
   "execution_count": null,
   "metadata": {},
   "outputs": [],
   "source": [
    "x = df_fless_2_alt.values\n",
    "print(x)\n",
    "\n",
    "min_max_scaler = preprocessing.MinMaxScaler() #To specify range use 'feature_range=(..., ...)' in its argument. Default range btn 0,1.\n",
    "x_scaled = min_max_scaler.fit_transform(x) \n",
    "print(x_scaled)\n",
    "\n",
    "df_normalize_fless_2_alt = pd.DataFrame(x_scaled) #'pd.DataFrame()' transfroms a list into a tabular fashion, i.e. with an additional column. \n",
    "print(df_normalize_fless_2_alt)"
   ]
  },
  {
   "cell_type": "code",
   "execution_count": null,
   "metadata": {},
   "outputs": [],
   "source": [
    "fig = plt.figure(figsize=(8,8))\n",
    "ax = fig.add_subplot(2, 1, 1)\n",
    "ax.imshow(recurrence_plot(df_normalize_fless_2_alt)) \n",
    "\n",
    "ax = fig.add_subplot(2, 1, 2)\n",
    "# ax.axis('off')\n",
    "ax.plot(df_normalize_fless_2_alt)"
   ]
  },
  {
   "cell_type": "code",
   "execution_count": null,
   "metadata": {
    "scrolled": true
   },
   "outputs": [],
   "source": [
    "df_fless_2_imu_x = pd.read_csv('Data/flawless_2_20201214_imu.csv')[['field.orientation.x']]\n",
    "df_fless_2_imu_y = pd.read_csv('Data/flawless_2_20201214_imu.csv')[['field.orientation.y']]\n",
    "df_fless_2_imu_z = pd.read_csv('Data/flawless_2_20201214_imu.csv')[['field.orientation.z']]\n",
    "\n",
    "print(df_fless_2_imu_x)\n",
    "plt.plot(df_fless_2_imu_x)\n",
    "\n",
    "print(df_fless_2_imu_y)\n",
    "plt.plot(df_fless_2_imu_y)\n",
    "\n",
    "print(df_fless_2_imu_z)\n",
    "# plt.plot(df_fless_2_imu_z)\n",
    "\n"
   ]
  },
  {
   "cell_type": "code",
   "execution_count": null,
   "metadata": {},
   "outputs": [],
   "source": [
    "df_sliced_fless_2_imu_x = df_fless_2_imu_x.iloc[::5, :]\n",
    "print (df_sliced_fless_2_imu_x)\n",
    "\n",
    "df_sliced_fless_2_imu_y = df_fless_2_imu_y.iloc[::5, :]\n",
    "# print (df_sliced_fless_2_imu_y)\n",
    "\n",
    "df_sliced_fless_2_imu_z = df_fless_2_imu_z.iloc[::5, :]\n",
    "# print (df_sliced_fless_2_imu_z)"
   ]
  },
  {
   "cell_type": "code",
   "execution_count": null,
   "metadata": {},
   "outputs": [],
   "source": [
    "x = df_sliced_fless_2_imu_x.values\n",
    "y = df_sliced_fless_2_imu_y.values\n",
    "z = df_sliced_fless_2_imu_z.values\n",
    "# print(x)\n",
    "\n",
    "min_max_scaler = preprocessing.MinMaxScaler() #To specify range use 'feature_range=(..., ...)' in its argument. Default range btn 0,1.\n",
    "x_scaled = min_max_scaler.fit_transform(x) \n",
    "y_scaled = min_max_scaler.fit_transform(y)\n",
    "z_scaled = min_max_scaler.fit_transform(z)\n",
    "# print(x_scaled)\n",
    "\n",
    "df_sliced_normalized_fless_2_imu_x = pd.DataFrame(x_scaled) #'pd.DataFrame()' transfroms a list into a tabular fashion, i.e. with an additional column. \n",
    "df_sliced_normalized_fless_2_imu_y = pd.DataFrame(y_scaled)\n",
    "df_sliced_normalized_fless_2_imu_z = pd.DataFrame(z_scaled)\n",
    "print(df_sliced_normalized_fless_2_imu_x)\n",
    "# print(df_sliced_normalized_fless_2_imu_y)\n",
    "# print(df_sliced_normalized_fless_2_imu_z)"
   ]
  },
  {
   "cell_type": "code",
   "execution_count": null,
   "metadata": {},
   "outputs": [],
   "source": [
    "fig = plt.figure(figsize=(8,8))\n",
    "ax = fig.add_subplot(2, 1, 1)\n",
    "ax.imshow(recurrence_plot(df_sliced_normalized_fless_2_imu_x)) \n",
    "ax.imshow(recurrence_plot(df_sliced_normalized_fless_2_imu_y)) \n",
    "ax.imshow(recurrence_plot(df_sliced_normalized_fless_2_imu_z)) \n",
    "plt.title(\"flawless_2_imu_x_y_z\")\n",
    "# ax.imshow(recurrence_plot(df_normalize_fless_2_alt))\n",
    "\n",
    "ax = fig.add_subplot(2, 1, 2)\n",
    "# ax.axis('off')\n",
    "ax.plot(df_sliced_normalized_fless_2_imu_x)\n",
    "ax.plot(df_sliced_normalized_fless_2_imu_y)\n",
    "ax.plot(df_sliced_normalized_fless_2_imu_z)\n",
    "# plt.title(\"flawless_2_imu_x_y_z\")"
   ]
  },
  {
   "cell_type": "code",
   "execution_count": null,
   "metadata": {},
   "outputs": [],
   "source": [
    "df_fless_2_dvl_x = pd.read_csv('Data/flawless_2_20201214_dvl.csv')[['field.velocity.x']]\n",
    "df_fless_2_dvl_y = pd.read_csv('Data/flawless_2_20201214_dvl.csv')[['field.velocity.y']]\n",
    "df_fless_2_dvl_z = pd.read_csv('Data/flawless_2_20201214_dvl.csv')[['field.velocity.z']]\n",
    "\n",
    "print(df_fless_2_dvl_x)\n",
    "plt.plot(df_fless_2_dvl_x)\n",
    "\n",
    "print(df_fless_2_dvl_y)\n",
    "plt.plot(df_fless_2_dvl_y)\n",
    "\n",
    "print(df_fless_2_dvl_z)\n",
    "plt.plot(df_fless_2_dvl_z)"
   ]
  },
  {
   "cell_type": "code",
   "execution_count": null,
   "metadata": {},
   "outputs": [],
   "source": [
    "x = df_fless_2_dvl_x.values\n",
    "y = df_fless_2_dvl_y.values\n",
    "z = df_fless_2_dvl_z.values\n",
    "# print(x)\n",
    "\n",
    "min_max_scaler = preprocessing.MinMaxScaler() #To specify range use 'feature_range=(..., ...)' in its argument. Default range btn 0,1.\n",
    "x_scaled = min_max_scaler.fit_transform(x) \n",
    "y_scaled = min_max_scaler.fit_transform(y)\n",
    "z_scaled = min_max_scaler.fit_transform(z)\n",
    "# print(x_scaled)\n",
    "\n",
    "df_normalized_fless_2_dvl_x = pd.DataFrame(x_scaled) #'pd.DataFrame()' transfroms a list into a tabular fashion, i.e. with an additional column. \n",
    "df_normalized_fless_2_dvl_y = pd.DataFrame(y_scaled)\n",
    "df_normalized_fless_2_dvl_z = pd.DataFrame(z_scaled)\n",
    "print(df_normalized_fless_2_dvl_x)\n",
    "# print(df_normalized_fless_2_dvl_y)\n",
    "# print(df_normalized_fless_2_dvl_z)"
   ]
  },
  {
   "cell_type": "code",
   "execution_count": null,
   "metadata": {},
   "outputs": [],
   "source": [
    "fig = plt.figure(figsize=(8,8))\n",
    "ax = fig.add_subplot(2, 1, 1)\n",
    "ax.imshow(recurrence_plot(df_normalized_fless_2_dvl_x)) \n",
    "ax.imshow(recurrence_plot(df_normalized_fless_2_dvl_y)) \n",
    "# ax.imshow(recurrence_plot(df_normalized_fless_2_dvl_z)) \n",
    "\n",
    "ax = fig.add_subplot(2, 1, 2)\n",
    "# ax.axis('off')\n",
    "ax.plot(df_normalized_fless_2_dvl_x)\n",
    "ax.plot(df_normalized_fless_2_dvl_y)\n",
    "ax.plot(df_normalized_fless_2_dvl_z)"
   ]
  },
  {
   "cell_type": "code",
   "execution_count": null,
   "metadata": {},
   "outputs": [],
   "source": []
  },
  {
   "cell_type": "code",
   "execution_count": null,
   "metadata": {},
   "outputs": [],
   "source": []
  }
 ],
 "metadata": {
  "kernelspec": {
   "display_name": "Python 3",
   "language": "python",
   "name": "python3"
  },
  "language_info": {
   "codemirror_mode": {
    "name": "ipython",
    "version": 3
   },
   "file_extension": ".py",
   "mimetype": "text/x-python",
   "name": "python",
   "nbconvert_exporter": "python",
   "pygments_lexer": "ipython3",
   "version": "3.7.6"
  }
 },
 "nbformat": 4,
 "nbformat_minor": 4
}
